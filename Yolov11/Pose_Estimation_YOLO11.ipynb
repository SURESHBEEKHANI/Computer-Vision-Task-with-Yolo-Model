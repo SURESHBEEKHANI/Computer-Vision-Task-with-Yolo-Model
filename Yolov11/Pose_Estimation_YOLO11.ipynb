{
  "nbformat": 4,
  "nbformat_minor": 0,
  "metadata": {
    "colab": {
      "private_outputs": true,
      "provenance": [],
      "authorship_tag": "ABX9TyPsF5VAquEyRUt3sGvhxdlV",
      "include_colab_link": true
    },
    "kernelspec": {
      "name": "python3",
      "display_name": "Python 3"
    },
    "language_info": {
      "name": "python"
    }
  },
  "cells": [
    {
      "cell_type": "markdown",
      "metadata": {
        "id": "view-in-github",
        "colab_type": "text"
      },
      "source": [
        "<a href=\"https://colab.research.google.com/github/SURESHBEEKHANI/Computer-Vision-Task-Yolo11/blob/main/Pose_Estimation_YOLO11.ipynb\" target=\"_parent\"><img src=\"https://colab.research.google.com/assets/colab-badge.svg\" alt=\"Open In Colab\"/></a>"
      ]
    },
    {
      "cell_type": "code",
      "execution_count": null,
      "metadata": {
        "id": "vHs8_DJICcPk"
      },
      "outputs": [],
      "source": [
        "!pip install ultralytics"
      ]
    },
    {
      "cell_type": "code",
      "source": [
        "import cv2\n",
        "from google.colab.patches import cv2_imshow\n",
        "from ultralytics import YOLO\n",
        "\n",
        "# Load the YOLO pose estimation model\n",
        "model = YOLO(\"yolov8n-pose.pt\")  # Ensure you have the correct model file\n",
        "\n",
        "# Run pose estimation on an image\n",
        "results = model.track(source=\"/content/image.jpg\", show=True, save=True)\n",
        "\n",
        "# The processed image is saved automatically, find the correct path\n",
        "processed_image_path = results[0].save_dir + \"/image.jpg\"  # Adjust path if needed\n",
        "\n",
        "# Load the processed image\n",
        "image = cv2.imread(processed_image_path)\n",
        "\n",
        "# Display the processed image (for Google Colab)\n",
        "cv2_imshow(image)"
      ],
      "metadata": {
        "id": "uD1ElMGxEM7n"
      },
      "execution_count": null,
      "outputs": []
    }
  ]
}